{
  "nbformat": 4,
  "nbformat_minor": 0,
  "metadata": {
    "colab": {
      "name": "Multi-INbreast-CNN.ipynb",
      "version": "0.3.2",
      "provenance": []
    },
    "kernelspec": {
      "name": "python3",
      "display_name": "Python 3"
    },
    "accelerator": "GPU"
  },
  "cells": [
    {
      "metadata": {
        "id": "n5KI2YcgQkBu",
        "colab_type": "code",
        "outputId": "6795dc83-5a22-4aab-a7f5-f3edf6386b90",
        "colab": {
          "base_uri": "https://localhost:8080/",
          "height": 122
        }
      },
      "cell_type": "code",
      "source": [
        "from google.colab.drive import mount\n",
        "mount('/content/drive/')"
      ],
      "execution_count": 0,
      "outputs": [
        {
          "output_type": "stream",
          "text": [
            "Go to this URL in a browser: https://accounts.google.com/o/oauth2/auth?client_id=947318989803-6bn6qk8qdgf4n4g3pfee6491hc0brc4i.apps.googleusercontent.com&redirect_uri=urn%3Aietf%3Awg%3Aoauth%3A2.0%3Aoob&scope=email%20https%3A%2F%2Fwww.googleapis.com%2Fauth%2Fdocs.test%20https%3A%2F%2Fwww.googleapis.com%2Fauth%2Fdrive%20https%3A%2F%2Fwww.googleapis.com%2Fauth%2Fdrive.photos.readonly%20https%3A%2F%2Fwww.googleapis.com%2Fauth%2Fpeopleapi.readonly&response_type=code\n",
            "\n",
            "Enter your authorization code:\n",
            "··········\n",
            "Mounted at /content/drive/\n"
          ],
          "name": "stdout"
        }
      ]
    },
    {
      "metadata": {
        "id": "eBmPCJAYQ1NS",
        "colab_type": "code",
        "colab": {}
      },
      "cell_type": "code",
      "source": [
        "drive_path = 'drive/My Drive/'"
      ],
      "execution_count": 0,
      "outputs": []
    },
    {
      "metadata": {
        "id": "iCAYUSp5RJ8S",
        "colab_type": "code",
        "colab": {}
      },
      "cell_type": "code",
      "source": [
        "!sudo apt-get install unar\n",
        "!pip install pydicom"
      ],
      "execution_count": 0,
      "outputs": []
    },
    {
      "metadata": {
        "id": "YRP6trKVRkMZ",
        "colab_type": "code",
        "colab": {}
      },
      "cell_type": "code",
      "source": [
        "!cp 'drive/My Drive/INbreast.rar' INbreast.rar\n",
        "!unar 'INbreast.rar'"
      ],
      "execution_count": 0,
      "outputs": []
    },
    {
      "metadata": {
        "id": "nlceYyfRnhwe",
        "colab_type": "code",
        "colab": {}
      },
      "cell_type": "code",
      "source": [
        "import os\n",
        "import pydicom \n",
        "import numpy as np \n",
        "import matplotlib.pyplot as plt\n",
        "import cv2\n",
        "from random import shuffle\n",
        "import glob\n",
        "from numpy.linalg import norm \n",
        "import pandas as pd\n",
        "import csv"
      ],
      "execution_count": 0,
      "outputs": []
    },
    {
      "metadata": {
        "id": "xU6p1ThWTBwP",
        "colab_type": "code",
        "colab": {}
      },
      "cell_type": "code",
      "source": [
        "images = glob.glob('INbreast/AllDICOMs/*.dcm')"
      ],
      "execution_count": 0,
      "outputs": []
    },
    {
      "metadata": {
        "id": "MgmYQ0M0lWVQ",
        "colab_type": "code",
        "colab": {}
      },
      "cell_type": "code",
      "source": [
        "csv_path = 'INbreast/INbreast.xls'\n",
        "df = pd.read_excel(csv_path)\n",
        "\n",
        "filenames = df['File Name'].tolist()\n",
        "labels   = df['Bi-Rads'].tolist()\n",
        "\n",
        "data = dict(zip(filenames, labels))"
      ],
      "execution_count": 0,
      "outputs": []
    },
    {
      "metadata": {
        "id": "H5zZEMR-3EW2",
        "colab_type": "code",
        "colab": {}
      },
      "cell_type": "code",
      "source": [
        "IMG_SIZE = 224"
      ],
      "execution_count": 0,
      "outputs": []
    },
    {
      "metadata": {
        "id": "tY3nOOyOJTg_",
        "colab_type": "code",
        "colab": {}
      },
      "cell_type": "code",
      "source": [
        "import skimage.feature as ft\n",
        "\n",
        "def get_id_from_mask(path):\n",
        "  return path[:-9]\n",
        "\n",
        "def get_image_from_id(id):\n",
        "  img_paths = glob.glob('INbreast/AllDICOMs/*.dcm')\n",
        "  for img_path in img_paths:\n",
        "    if id in img_path:\n",
        "      return img_path\n",
        "    \n",
        "def get_array_from_dicom(path):\n",
        "  img = pydicom.dcmread(path).pixel_array\n",
        "  return img\n",
        "\n",
        "def get_mammo_from_mask(msk_path):\n",
        "  id = get_id_from_mask(msk_path)\n",
        "  img_path  = get_image_from_id(id)\n",
        "  img = get_array_from_dicom(img_path)\n",
        "  return img_path, img\n",
        "\n",
        "def map_label(fname):\n",
        "  for f in data.keys():\n",
        "    l = int(f) \n",
        "    if str(l) in fname:\n",
        "      label = data[f]\n",
        "      break\n",
        "  if label in ['4a', '4b', '4c']:\n",
        "    label = 4\n",
        "    \n",
        "  if label <= 3:\n",
        "    return 0\n",
        "  if label >3:\n",
        "    return 1\n",
        "  \n",
        "  return int(label)\n",
        "\n",
        "def preprocess(img):\n",
        "  img = cv2.resize(img, dsize = (IMG_SIZE, IMG_SIZE))\n",
        "  #img = np.stack((img,)*3, axis=-1)\n",
        "  img = np.expand_dims(img, -1)\n",
        "  return img.astype('float32')\n",
        "\n",
        "def resize_and_crop(img):\n",
        "  result = np.zeros((1685, 1685))\n",
        "\n",
        "  if img.max() > 0:\n",
        "    mask = img == 0\n",
        "    rows = np.flatnonzero((~mask).sum(axis=1))\n",
        "    cols = np.flatnonzero((~mask).sum(axis=0))\n",
        "\n",
        "    x0 = rows.min()\n",
        "    x1 = rows.max()+1\n",
        "    y0 = cols.min()\n",
        "    y1 = cols.max()+1\n",
        "\n",
        "    v = img\n",
        "    v = v[x0:x1, y0:y1]\n",
        "    result[:v.shape[0],:v.shape[1]] = v\n",
        "  return preprocess(result)"
      ],
      "execution_count": 0,
      "outputs": []
    },
    {
      "metadata": {
        "id": "HI2w8iTHH7eX",
        "colab_type": "code",
        "colab": {}
      },
      "cell_type": "code",
      "source": [
        "mass_msk_base = 'INbreast/extras/MassSegmentationMasks/'\n",
        "mc_msk_base = 'INbreast/extras/CalcificationSegmentationMasks/'\n",
        "\n",
        "msk_files = list(set(os.listdir(mass_msk_base)) | set(os.listdir(mc_msk_base)))\n",
        "\n",
        "features = []\n",
        "labels = []\n",
        "\n",
        "added_so_far = []\n",
        "for msk_file  in msk_files:\n",
        "  #get full mammogram \n",
        "  \n",
        "  try:\n",
        "    img_path, img = get_mammo_from_mask(msk_file)\n",
        "    added_so_far.append(img_path)\n",
        "  except:\n",
        "    continue\n",
        "\n",
        "  #check of MC view exists\n",
        "  if msk_file in os.listdir(mc_msk_base):\n",
        "    mc_msk = cv2.imread(mc_msk_base+msk_file)[...,0]\n",
        "  else:\n",
        "    mc_msk = np.zeros_like(img)\n",
        "\n",
        "  #check if \n",
        "  if msk_file in os.listdir(mass_msk_base):\n",
        "    mass_msk = cv2.imread(mass_msk_base+msk_file)[...,0]\n",
        "  else:\n",
        "    mass_msk = np.zeros_like(img) \n",
        "\n",
        "\n",
        "  #get the mc mask \n",
        "  label =  map_label(img_path)\n",
        "  img = img/img.max()\n",
        "  mass = mass_msk/255\n",
        "  mc   = mc_msk/255\n",
        "\n",
        "  processed_mass = resize_and_crop(img*mass)\n",
        "  processed_mc = preprocess(img*mc)\n",
        "  processed_img = preprocess(img)\n",
        "  \n",
        "  #print(hog_feature.shape, lbp_feature.shape)\n",
        "  features.append(np.concatenate([processed_img, processed_mass, processed_mc], axis = -1))\n",
        "  labels.append(label)\n",
        "  \n",
        "#remaining = set(images) - set(added_so_far)\n",
        "remaining = []\n",
        "\n",
        "for img_path in remaining:\n",
        "  try:\n",
        "    img = get_array_from_dicom(img_path)\n",
        "  except:\n",
        "    continue\n",
        "  processed_img = preprocess(img)\n",
        "  processed_mass = np.zeros((224, 224, 1))\n",
        "  processed_mc = np.zeros((224, 224, 1))\n",
        "  features.append(np.concatenate([processed_img, processed_mass, processed_mc], axis = -1))\n",
        "  label =  map_label(img_path)\n",
        "  labels.append(label)"
      ],
      "execution_count": 0,
      "outputs": []
    },
    {
      "metadata": {
        "id": "eNOEsv4L24BF",
        "colab_type": "code",
        "colab": {}
      },
      "cell_type": "code",
      "source": [
        "import keras\n",
        "from keras.callbacks import Callback\n",
        "from keras.models import Sequential\n",
        "from keras.layers import Dense, Activation, Dropout, Flatten,\\\n",
        " Conv2D, MaxPooling2D, Input, Concatenate, GlobalAveragePooling2D\n",
        "from keras.layers.normalization import BatchNormalization\n",
        "from keras.callbacks import EarlyStopping, ReduceLROnPlateau\n",
        "import numpy as np\n",
        "import keras.backend as K\n",
        "import numpy as np\n",
        "from sklearn.metrics import accuracy_score, precision_score, recall_score , f1_score, roc_auc_score       \n",
        "from sklearn.model_selection import StratifiedKFold, KFold"
      ],
      "execution_count": 0,
      "outputs": []
    },
    {
      "metadata": {
        "id": "LeYyq5eI2x-F",
        "colab_type": "code",
        "colab": {}
      },
      "cell_type": "code",
      "source": [
        "def conv_block(fs, x):\n",
        "  conv  = Conv2D(fs, (3, 3), padding = 'same', activation = 'relu')(x)\n",
        "  pool  = MaxPooling2D(pool_size = (2, 2))(conv)\n",
        "  return pool\n",
        "\n",
        "def res_block(fs, x):\n",
        "  conv  = Conv2D(fs, (3, 3), padding = 'same', activation = 'relu')(x)\n",
        "  pool  = MaxPooling2D(pool_size = (2, 2))(Concatenate(axis = -1)([x, conv]))\n",
        "  return pool\n",
        "\n",
        "def to_labels(pred):\n",
        "  pred[pred >= 0.5] = 1\n",
        "  pred[pred < 0.5] = 0\n",
        "  return pred\n",
        "\n",
        "def model1():\n",
        "  inp = Input(shape = (224, 224, 3))\n",
        "\n",
        "  block1 = conv_block(32, inp)\n",
        "  block2 = conv_block(64, block1)\n",
        "  block3 = conv_block(64, block2)\n",
        "  block4 = conv_block(128, block3)\n",
        "  block5 = conv_block(128, block4)\n",
        "\n",
        "  flatten = Flatten()(block5)\n",
        "\n",
        "  out = Dense(128, activation = 'relu')(flatten)\n",
        "  out = Dense(1, activation = 'sigmoid')(out)\n",
        "\n",
        "  model = keras.models.Model(inputs = inp, outputs = out)\n",
        "  model.compile(loss='binary_crossentropy', optimizer='adam', metrics = ['accuracy'])\n",
        "  return model\n",
        "\n",
        "def resnet():\n",
        "  inp = Input(shape = (224, 224, 3))\n",
        "\n",
        "  block1 = res_block(32, inp)\n",
        "  block2 = res_block(64, block1)\n",
        "  block3 = res_block(64, block2)\n",
        "  block4 = res_block(128, block3)\n",
        "  block5 = res_block(128, block4)\n",
        "  flatten = Flatten()(block5)\n",
        "\n",
        "  out = Dense(128, activation = 'relu')(flatten)\n",
        "  out = Dense(1, activation = 'sigmoid')(out)\n",
        "\n",
        "  model = keras.models.Model(inputs = inp, outputs = out)\n",
        "  model.compile(loss='binary_crossentropy', optimizer='adam', metrics = ['accuracy'])\n",
        "  return model\n",
        "\n",
        "def fine_tune_vgg():\n",
        "  #download and load the pretrained model\n",
        "  vgg = keras.applications.VGG16(input_shape = (IMG_SIZE, IMG_SIZE, 3), weights ='imagenet', include_top = False)\n",
        "\n",
        "  #freeze all the layers as a fixed feature extractor\n",
        "  for layer in vgg.layers:\n",
        "    layer.trainable = False\n",
        "\n",
        "  flatten = GlobalAveragePooling2D()(vgg.output)\n",
        "\n",
        "  #first branch for classification\n",
        "  branch1 = Dense(1024, activation = 'relu')(flatten)\n",
        "  out = Dense(1, activation = 'sigmoid')(branch1)\n",
        "\n",
        "  #create a model with one input and two outputs \n",
        "  model = keras.models.Model(inputs = vgg.input , outputs = out)\n",
        "  model.compile(loss='binary_crossentropy', optimizer='adam', metrics=['accuracy'])\n",
        "  return model\n",
        "\n",
        "def fine_tune_resnet():\n",
        "  #download and load the pretrained model\n",
        "  vgg = keras.applications.ResNet50(input_shape = (IMG_SIZE, IMG_SIZE, 3), weights ='imagenet', include_top = False)\n",
        "\n",
        "  #freeze all the layers as a fixed feature extractor\n",
        "  for layer in vgg.layers:\n",
        "    layer.trainable = False\n",
        "\n",
        "  flatten = GlobalAveragePooling2D()(vgg.output)\n",
        "\n",
        "  #first branch for classification\n",
        "  branch1 = Dense(1024, activation = 'relu')(flatten)\n",
        "  out = Dense(1, activation = 'sigmoid')(branch1)\n",
        "\n",
        "  #create a model with one input and two outputs \n",
        "  model = keras.models.Model(inputs = vgg.input , outputs = out)\n",
        "  model.compile(loss='binary_crossentropy', optimizer='adam', metrics=['accuracy'])\n",
        "  return model\n",
        "\n",
        "def fine_tune_incept():\n",
        "  #download and load the pretrained model\n",
        "  vgg = keras.applications.InceptionResNetV2(input_shape = (IMG_SIZE, IMG_SIZE, 3), weights ='imagenet', include_top = False)\n",
        "\n",
        "  #freeze all the layers as a fixed feature extractor\n",
        "  for layer in vgg.layers:\n",
        "    layer.trainable = False\n",
        "\n",
        "  flatten = GlobalAveragePooling2D()(vgg.output)\n",
        "\n",
        "  #first branch for classification\n",
        "  branch1 = Dense(1024, activation = 'relu')(flatten)\n",
        "  out = Dense(1, activation = 'sigmoid')(branch1)\n",
        "\n",
        "  #create a model with one input and two outputs \n",
        "  model = keras.models.Model(inputs = vgg.input , outputs = out)\n",
        "  model.compile(loss='binary_crossentropy', optimizer='adam', metrics=['accuracy'])\n",
        "  return model"
      ],
      "execution_count": 0,
      "outputs": []
    },
    {
      "metadata": {
        "id": "0GvmETspJ3Hm",
        "colab_type": "code",
        "colab": {}
      },
      "cell_type": "code",
      "source": [
        "resnet = fine_tune_incept()\n",
        "resnet.summary()"
      ],
      "execution_count": 0,
      "outputs": []
    },
    {
      "metadata": {
        "id": "C3_AA1qBzPHm",
        "colab_type": "code",
        "colab": {}
      },
      "cell_type": "code",
      "source": [
        "class EarlyStoppingByLossVal(Callback):\n",
        "    def __init__(self, monitor='acc', value=0.88, verbose=0):\n",
        "        super(Callback, self).__init__()\n",
        "        self.monitor = monitor\n",
        "        self.value = value\n",
        "\n",
        "    def on_epoch_end(self, epoch, logs={}):\n",
        "        current = logs.get(self.monitor)\n",
        "        if current is None:\n",
        "            warnings.warn(\"Early stopping requires %s available!\" % self.monitor, RuntimeWarning)\n",
        "\n",
        "        if current < self.value:\n",
        "            self.model.stop_training = True"
      ],
      "execution_count": 0,
      "outputs": []
    },
    {
      "metadata": {
        "id": "R2sdHkDKzqAn",
        "colab_type": "code",
        "colab": {}
      },
      "cell_type": "code",
      "source": [
        "earyl_stopping = EarlyStoppingByLossVal(monitor = 'loss', value = 0.3)"
      ],
      "execution_count": 0,
      "outputs": []
    },
    {
      "metadata": {
        "id": "aVmv1JM45XaP",
        "colab_type": "code",
        "colab": {}
      },
      "cell_type": "code",
      "source": [
        "kfold = KFold(n_splits=10, shuffle=True)\n",
        "X = np.array(features)\n",
        "Y = np.array(labels)"
      ],
      "execution_count": 0,
      "outputs": []
    },
    {
      "metadata": {
        "id": "NBeUtWDa4yk9",
        "colab_type": "code",
        "colab": {}
      },
      "cell_type": "code",
      "source": [
        "cvscores = {'acc':[], 'f_1':[], 'prc':[], 'rec':[], 'roc':[]}\n",
        "\n",
        "for i, (train, test) in enumerate(kfold.split(X, Y)):\n",
        "  #model = model1()\n",
        "  #model = resnet()\n",
        "  #model = fine_tune()\n",
        "  model = fine_tune_incept()\n",
        "  model.fit(X[train], Y[train], batch_size = 64, epochs=10, verbose = 2) #resnet model \n",
        "  #model.fit(X[train], Y[train], batch_size = 32, epochs=20, verbose = 2, callbacks = [earyl_stopping]) #model1  \n",
        "  # evaluate the model\n",
        "  logits = model.predict(X[test])\n",
        "  pred = to_labels(logits[:,0])\n",
        "\n",
        "  s1 = accuracy_score(Y[test], pred)\n",
        "  s2 = f1_score(Y[test], pred)\n",
        "  s3 = precision_score(Y[test], pred)\n",
        "  s4 = recall_score(Y[test], pred)\n",
        "  s5 = roc_auc_score(Y[test], logits)\n",
        "  \n",
        "  print(f'{i}: acc:{s1:.2f}  f_1:{s2:.2f}  prc:{s3:.2f}  rec:{s4:.2f} roc:{s5:.2f}')\n",
        "\n",
        "  cvscores['acc'].append(s1)\n",
        "  cvscores['f_1'].append(s2)\n",
        "  cvscores['prc'].append(s3)\n",
        "  cvscores['rec'].append(s4)\n",
        "  cvscores['roc'].append(s5)\n",
        "\n",
        "print('======================================')\n",
        "avgs = [np.mean(cvscores['acc']), np.mean(cvscores['f_1']), np.mean(cvscores['prc']), np.mean(cvscores['rec']), np.mean(cvscores['roc'])]\n",
        "print(f'acc:{avgs[0]:.2f}  f_1:{avgs[1]:.2f}  prc:{avgs[2]:.2f}  rec:{avgs[3]:.2f} roc:{avgs[4]:.2f}')"
      ],
      "execution_count": 0,
      "outputs": []
    }
  ]
}